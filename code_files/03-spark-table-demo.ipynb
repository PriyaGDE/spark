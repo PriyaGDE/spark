{
 "cells": [
  {
   "cell_type": "code",
   "execution_count": 0,
   "metadata": {
    "application/vnd.databricks.v1+cell": {
     "cellMetadata": {
      "byteLimit": 2048000,
      "rowLimit": 10000
     },
     "inputWidgets": {},
     "nuid": "71bd3af5-d940-4dc6-8b9b-d1dfba334abe",
     "showTitle": false,
     "tableResultSettingsMap": {},
     "title": ""
    }
   },
   "outputs": [],
   "source": [
    "%sql\n",
    "create database if not exists demo_db"
   ]
  },
  {
   "cell_type": "code",
   "execution_count": 0,
   "metadata": {
    "application/vnd.databricks.v1+cell": {
     "cellMetadata": {
      "byteLimit": 2048000,
      "rowLimit": 10000
     },
     "inputWidgets": {},
     "nuid": "1f15d5d3-4f26-4865-87f8-5f6ce27c06ae",
     "showTitle": false,
     "tableResultSettingsMap": {},
     "title": ""
    }
   },
   "outputs": [],
   "source": [
    "create table demo_db.fire_service_calls_tbl(\n",
    "  CallNumber integer,\n",
    "  UnitID string,\n",
    "  IncidentNumber integer,\n",
    "  CallType string,\n",
    "  CallDate string,\n",
    "  WatchDate string,\n",
    "  CallFinalDisposition string,\n",
    "  AvailableDtTm string,\n",
    "  Address string,\n",
    "  City string,\n",
    "  Zipcode integer,\n",
    "  Battalion string,\n",
    "  StationArea string,\n",
    "  Box string,\n",
    "  OriginalPriority string,\n",
    "  Priority string,\n",
    "  FinalPriority integer,\n",
    "  ALSUnit boolean,\n",
    "  CallTypeGroup string,\n",
    "  NumAlarms integer,\n",
    "  UnitType string,\n",
    "  UnitSequenceInCallDispatch integer,\n",
    "  FirePreventionDistrict string,\n",
    "  SupervisorDistrict string,\n",
    "  Neighborhood string,\n",
    "  Location string,\n",
    "  RowID string,\n",
    "  Delay float\n",
    ") using delta"
   ]
  },
  {
   "cell_type": "code",
   "execution_count": 0,
   "metadata": {
    "application/vnd.databricks.v1+cell": {
     "cellMetadata": {
      "byteLimit": 2048000,
      "rowLimit": 10000
     },
     "inputWidgets": {},
     "nuid": "1b58790d-1f6d-49a7-ba1a-72835084f158",
     "showTitle": false,
     "tableResultSettingsMap": {},
     "title": ""
    }
   },
   "outputs": [
    {
     "output_type": "display_data",
     "data": {
      "text/html": [
       "<style scoped>\n",
       "  .table-result-container {\n",
       "    max-height: 300px;\n",
       "    overflow: auto;\n",
       "  }\n",
       "  table, th, td {\n",
       "    border: 1px solid black;\n",
       "    border-collapse: collapse;\n",
       "  }\n",
       "  th, td {\n",
       "    padding: 5px;\n",
       "  }\n",
       "  th {\n",
       "    text-align: left;\n",
       "  }\n",
       "</style><div class='table-result-container'><table class='table-result'><thead style='background-color: white'><tr><th>num_affected_rows</th><th>num_inserted_rows</th></tr></thead><tbody><tr><td>1</td><td>1</td></tr></tbody></table></div>"
      ]
     },
     "metadata": {
      "application/vnd.databricks.v1+output": {
       "addedWidgets": {},
       "aggData": [],
       "aggError": "",
       "aggOverflow": false,
       "aggSchema": [],
       "aggSeriesLimitReached": false,
       "aggType": "",
       "arguments": {},
       "columnCustomDisplayInfos": {},
       "data": [
        [
         1,
         1
        ]
       ],
       "datasetInfos": [
        {
         "name": "_sqldf",
         "schema": {
          "fields": [
           {
            "metadata": {},
            "name": "num_affected_rows",
            "nullable": true,
            "type": "long"
           },
           {
            "metadata": {},
            "name": "num_inserted_rows",
            "nullable": true,
            "type": "long"
           }
          ],
          "type": "struct"
         },
         "tableIdentifier": null,
         "typeStr": "pyspark.sql.connect.dataframe.DataFrame"
        }
       ],
       "dbfsResultPath": null,
       "isJsonSchema": true,
       "metadata": {
        "createTempViewForImplicitDf": true,
        "dataframeName": "_sqldf",
        "executionCount": 7
       },
       "overflow": false,
       "plotOptions": {
        "customPlotOptions": {},
        "displayType": "table",
        "pivotAggregation": null,
        "pivotColumns": null,
        "xColumns": null,
        "yColumns": null
       },
       "removedWidgets": [],
       "schema": [
        {
         "metadata": "{}",
         "name": "num_affected_rows",
         "type": "\"long\""
        },
        {
         "metadata": "{}",
         "name": "num_inserted_rows",
         "type": "\"long\""
        }
       ],
       "type": "table"
      }
     },
     "output_type": "display_data"
    }
   ],
   "source": [
    "insert into demo_db.fire_service_calls_tbl\n",
    "values(1234,null,null,null,null,null,null,null,null,null,null,null,null,null,null,null,null,null,null,null,null,null,null,null,null,null,null,null)"
   ]
  },
  {
   "cell_type": "code",
   "execution_count": 0,
   "metadata": {
    "application/vnd.databricks.v1+cell": {
     "cellMetadata": {
      "byteLimit": 2048000,
      "rowLimit": 10000
     },
     "inputWidgets": {},
     "nuid": "58a2a993-c95d-4b74-93c3-79f5794fb736",
     "showTitle": false,
     "tableResultSettingsMap": {},
     "title": ""
    }
   },
   "outputs": [
    {
     "output_type": "display_data",
     "data": {
      "text/html": [
       "<style scoped>\n",
       "  .table-result-container {\n",
       "    max-height: 300px;\n",
       "    overflow: auto;\n",
       "  }\n",
       "  table, th, td {\n",
       "    border: 1px solid black;\n",
       "    border-collapse: collapse;\n",
       "  }\n",
       "  th, td {\n",
       "    padding: 5px;\n",
       "  }\n",
       "  th {\n",
       "    text-align: left;\n",
       "  }\n",
       "</style><div class='table-result-container'><table class='table-result'><thead style='background-color: white'><tr><th>CallNumber</th><th>UnitID</th><th>IncidentNumber</th><th>CallType</th><th>CallDate</th><th>WatchDate</th><th>CallFinalDisposition</th><th>AvailableDtTm</th><th>Address</th><th>City</th><th>Zipcode</th><th>Battalion</th><th>StationArea</th><th>Box</th><th>OriginalPriority</th><th>Priority</th><th>FinalPriority</th><th>ALSUnit</th><th>CallTypeGroup</th><th>NumAlarms</th><th>UnitType</th><th>UnitSequenceInCallDispatch</th><th>FirePreventionDistrict</th><th>SupervisorDistrict</th><th>Neighborhood</th><th>Location</th><th>RowID</th><th>Delay</th></tr></thead><tbody><tr><td>1234</td><td>null</td><td>null</td><td>null</td><td>null</td><td>null</td><td>null</td><td>null</td><td>null</td><td>null</td><td>null</td><td>null</td><td>null</td><td>null</td><td>null</td><td>null</td><td>null</td><td>null</td><td>null</td><td>null</td><td>null</td><td>null</td><td>null</td><td>null</td><td>null</td><td>null</td><td>null</td><td>null</td></tr></tbody></table></div>"
      ]
     },
     "metadata": {
      "application/vnd.databricks.v1+output": {
       "addedWidgets": {},
       "aggData": [],
       "aggError": "",
       "aggOverflow": false,
       "aggSchema": [],
       "aggSeriesLimitReached": false,
       "aggType": "",
       "arguments": {},
       "columnCustomDisplayInfos": {},
       "data": [
        [
         1234,
         null,
         null,
         null,
         null,
         null,
         null,
         null,
         null,
         null,
         null,
         null,
         null,
         null,
         null,
         null,
         null,
         null,
         null,
         null,
         null,
         null,
         null,
         null,
         null,
         null,
         null,
         null
        ]
       ],
       "datasetInfos": [
        {
         "name": "_sqldf",
         "schema": {
          "fields": [
           {
            "metadata": {},
            "name": "CallNumber",
            "nullable": true,
            "type": "integer"
           },
           {
            "metadata": {},
            "name": "UnitID",
            "nullable": true,
            "type": "string"
           },
           {
            "metadata": {},
            "name": "IncidentNumber",
            "nullable": true,
            "type": "integer"
           },
           {
            "metadata": {},
            "name": "CallType",
            "nullable": true,
            "type": "string"
           },
           {
            "metadata": {},
            "name": "CallDate",
            "nullable": true,
            "type": "string"
           },
           {
            "metadata": {},
            "name": "WatchDate",
            "nullable": true,
            "type": "string"
           },
           {
            "metadata": {},
            "name": "CallFinalDisposition",
            "nullable": true,
            "type": "string"
           },
           {
            "metadata": {},
            "name": "AvailableDtTm",
            "nullable": true,
            "type": "string"
           },
           {
            "metadata": {},
            "name": "Address",
            "nullable": true,
            "type": "string"
           },
           {
            "metadata": {},
            "name": "City",
            "nullable": true,
            "type": "string"
           },
           {
            "metadata": {},
            "name": "Zipcode",
            "nullable": true,
            "type": "integer"
           },
           {
            "metadata": {},
            "name": "Battalion",
            "nullable": true,
            "type": "string"
           },
           {
            "metadata": {},
            "name": "StationArea",
            "nullable": true,
            "type": "string"
           },
           {
            "metadata": {},
            "name": "Box",
            "nullable": true,
            "type": "string"
           },
           {
            "metadata": {},
            "name": "OriginalPriority",
            "nullable": true,
            "type": "string"
           },
           {
            "metadata": {},
            "name": "Priority",
            "nullable": true,
            "type": "string"
           },
           {
            "metadata": {},
            "name": "FinalPriority",
            "nullable": true,
            "type": "integer"
           },
           {
            "metadata": {},
            "name": "ALSUnit",
            "nullable": true,
            "type": "boolean"
           },
           {
            "metadata": {},
            "name": "CallTypeGroup",
            "nullable": true,
            "type": "string"
           },
           {
            "metadata": {},
            "name": "NumAlarms",
            "nullable": true,
            "type": "integer"
           },
           {
            "metadata": {},
            "name": "UnitType",
            "nullable": true,
            "type": "string"
           },
           {
            "metadata": {},
            "name": "UnitSequenceInCallDispatch",
            "nullable": true,
            "type": "integer"
           },
           {
            "metadata": {},
            "name": "FirePreventionDistrict",
            "nullable": true,
            "type": "string"
           },
           {
            "metadata": {},
            "name": "SupervisorDistrict",
            "nullable": true,
            "type": "string"
           },
           {
            "metadata": {},
            "name": "Neighborhood",
            "nullable": true,
            "type": "string"
           },
           {
            "metadata": {},
            "name": "Location",
            "nullable": true,
            "type": "string"
           },
           {
            "metadata": {},
            "name": "RowID",
            "nullable": true,
            "type": "string"
           },
           {
            "metadata": {},
            "name": "Delay",
            "nullable": true,
            "type": "float"
           }
          ],
          "type": "struct"
         },
         "tableIdentifier": null,
         "typeStr": "pyspark.sql.connect.dataframe.DataFrame"
        }
       ],
       "dbfsResultPath": null,
       "isJsonSchema": true,
       "metadata": {
        "createTempViewForImplicitDf": true,
        "dataframeName": "_sqldf",
        "executionCount": 8
       },
       "overflow": false,
       "plotOptions": {
        "customPlotOptions": {},
        "displayType": "table",
        "pivotAggregation": null,
        "pivotColumns": null,
        "xColumns": null,
        "yColumns": null
       },
       "removedWidgets": [],
       "schema": [
        {
         "metadata": "{}",
         "name": "CallNumber",
         "type": "\"integer\""
        },
        {
         "metadata": "{}",
         "name": "UnitID",
         "type": "\"string\""
        },
        {
         "metadata": "{}",
         "name": "IncidentNumber",
         "type": "\"integer\""
        },
        {
         "metadata": "{}",
         "name": "CallType",
         "type": "\"string\""
        },
        {
         "metadata": "{}",
         "name": "CallDate",
         "type": "\"string\""
        },
        {
         "metadata": "{}",
         "name": "WatchDate",
         "type": "\"string\""
        },
        {
         "metadata": "{}",
         "name": "CallFinalDisposition",
         "type": "\"string\""
        },
        {
         "metadata": "{}",
         "name": "AvailableDtTm",
         "type": "\"string\""
        },
        {
         "metadata": "{}",
         "name": "Address",
         "type": "\"string\""
        },
        {
         "metadata": "{}",
         "name": "City",
         "type": "\"string\""
        },
        {
         "metadata": "{}",
         "name": "Zipcode",
         "type": "\"integer\""
        },
        {
         "metadata": "{}",
         "name": "Battalion",
         "type": "\"string\""
        },
        {
         "metadata": "{}",
         "name": "StationArea",
         "type": "\"string\""
        },
        {
         "metadata": "{}",
         "name": "Box",
         "type": "\"string\""
        },
        {
         "metadata": "{}",
         "name": "OriginalPriority",
         "type": "\"string\""
        },
        {
         "metadata": "{}",
         "name": "Priority",
         "type": "\"string\""
        },
        {
         "metadata": "{}",
         "name": "FinalPriority",
         "type": "\"integer\""
        },
        {
         "metadata": "{}",
         "name": "ALSUnit",
         "type": "\"boolean\""
        },
        {
         "metadata": "{}",
         "name": "CallTypeGroup",
         "type": "\"string\""
        },
        {
         "metadata": "{}",
         "name": "NumAlarms",
         "type": "\"integer\""
        },
        {
         "metadata": "{}",
         "name": "UnitType",
         "type": "\"string\""
        },
        {
         "metadata": "{}",
         "name": "UnitSequenceInCallDispatch",
         "type": "\"integer\""
        },
        {
         "metadata": "{}",
         "name": "FirePreventionDistrict",
         "type": "\"string\""
        },
        {
         "metadata": "{}",
         "name": "SupervisorDistrict",
         "type": "\"string\""
        },
        {
         "metadata": "{}",
         "name": "Neighborhood",
         "type": "\"string\""
        },
        {
         "metadata": "{}",
         "name": "Location",
         "type": "\"string\""
        },
        {
         "metadata": "{}",
         "name": "RowID",
         "type": "\"string\""
        },
        {
         "metadata": "{}",
         "name": "Delay",
         "type": "\"float\""
        }
       ],
       "type": "table"
      }
     },
     "output_type": "display_data"
    }
   ],
   "source": [
    "select * from demo_db.fire_service_calls_tbl"
   ]
  },
  {
   "cell_type": "code",
   "execution_count": 0,
   "metadata": {
    "application/vnd.databricks.v1+cell": {
     "cellMetadata": {
      "byteLimit": 2048000,
      "rowLimit": 10000
     },
     "inputWidgets": {},
     "nuid": "9443a45e-b724-4839-99d8-6f9206771806",
     "showTitle": false,
     "tableResultSettingsMap": {},
     "title": ""
    }
   },
   "outputs": [],
   "source": [
    "truncate table demo_db.fire_service_calls_tbl"
   ]
  },
  {
   "cell_type": "code",
   "execution_count": 0,
   "metadata": {
    "application/vnd.databricks.v1+cell": {
     "cellMetadata": {
      "byteLimit": 2048000,
      "rowLimit": 10000
     },
     "inputWidgets": {},
     "nuid": "f4af3cd9-edce-4cd6-bf44-0f963d902fd5",
     "showTitle": false,
     "tableResultSettingsMap": {},
     "title": ""
    }
   },
   "outputs": [],
   "source": [
    "%python\n",
    "fire_df = spark.read \\\n",
    "            .format(\"csv\") \\\n",
    "            .option(\"header\", \"true\") \\\n",
    "            .option(\"inferSchema\", \"true\") \\\n",
    "            .load(\"/databricks-datasets/learning-spark-v2/sf-fire/sf-fire-calls.csv\")\n"
   ]
  },
  {
   "cell_type": "code",
   "execution_count": 0,
   "metadata": {
    "application/vnd.databricks.v1+cell": {
     "cellMetadata": {
      "byteLimit": 2048000,
      "rowLimit": 10000
     },
     "inputWidgets": {},
     "nuid": "a765f7ef-68f8-4c96-ac84-5386b1ec4faf",
     "showTitle": false,
     "tableResultSettingsMap": {},
     "title": ""
    }
   },
   "outputs": [],
   "source": [
    "%python\n",
    "fire_df.createTempView(\"fire_service_calls_view\")"
   ]
  },
  {
   "cell_type": "code",
   "execution_count": 0,
   "metadata": {
    "application/vnd.databricks.v1+cell": {
     "cellMetadata": {
      "byteLimit": 2048000,
      "rowLimit": 10000
     },
     "inputWidgets": {},
     "nuid": "dff1e5fb-013e-4822-ab32-61a2a45917f3",
     "showTitle": false,
     "tableResultSettingsMap": {},
     "title": ""
    }
   },
   "outputs": [
    {
     "output_type": "display_data",
     "data": {
      "text/html": [
       "<style scoped>\n",
       "  .table-result-container {\n",
       "    max-height: 300px;\n",
       "    overflow: auto;\n",
       "  }\n",
       "  table, th, td {\n",
       "    border: 1px solid black;\n",
       "    border-collapse: collapse;\n",
       "  }\n",
       "  th, td {\n",
       "    padding: 5px;\n",
       "  }\n",
       "  th {\n",
       "    text-align: left;\n",
       "  }\n",
       "</style><div class='table-result-container'><table class='table-result'><thead style='background-color: white'><tr><th>num_affected_rows</th><th>num_inserted_rows</th></tr></thead><tbody><tr><td>4380660</td><td>4380660</td></tr></tbody></table></div>"
      ]
     },
     "metadata": {
      "application/vnd.databricks.v1+output": {
       "addedWidgets": {},
       "aggData": [],
       "aggError": "",
       "aggOverflow": false,
       "aggSchema": [],
       "aggSeriesLimitReached": false,
       "aggType": "",
       "arguments": {},
       "columnCustomDisplayInfos": {},
       "data": [
        [
         4380660,
         4380660
        ]
       ],
       "datasetInfos": [
        {
         "name": "_sqldf",
         "schema": {
          "fields": [
           {
            "metadata": {},
            "name": "num_affected_rows",
            "nullable": true,
            "type": "long"
           },
           {
            "metadata": {},
            "name": "num_inserted_rows",
            "nullable": true,
            "type": "long"
           }
          ],
          "type": "struct"
         },
         "tableIdentifier": null,
         "typeStr": "pyspark.sql.connect.dataframe.DataFrame"
        }
       ],
       "dbfsResultPath": null,
       "isJsonSchema": true,
       "metadata": {
        "createTempViewForImplicitDf": true,
        "dataframeName": "_sqldf",
        "executionCount": 18
       },
       "overflow": false,
       "plotOptions": {
        "customPlotOptions": {},
        "displayType": "table",
        "pivotAggregation": null,
        "pivotColumns": null,
        "xColumns": null,
        "yColumns": null
       },
       "removedWidgets": [],
       "schema": [
        {
         "metadata": "{}",
         "name": "num_affected_rows",
         "type": "\"long\""
        },
        {
         "metadata": "{}",
         "name": "num_inserted_rows",
         "type": "\"long\""
        }
       ],
       "type": "table"
      }
     },
     "output_type": "display_data"
    }
   ],
   "source": [
    "insert into demo_db.fire_service_calls_tbl\n",
    "select * from fire_service_calls_view"
   ]
  },
  {
   "cell_type": "code",
   "execution_count": 0,
   "metadata": {
    "application/vnd.databricks.v1+cell": {
     "cellMetadata": {
      "byteLimit": 2048000,
      "rowLimit": 10000
     },
     "inputWidgets": {},
     "nuid": "3c1556bf-e0f1-4f42-9c6a-686a82236c44",
     "showTitle": false,
     "tableResultSettingsMap": {},
     "title": ""
    }
   },
   "outputs": [
    {
     "output_type": "display_data",
     "data": {
      "text/html": [
       "<style scoped>\n",
       "  .table-result-container {\n",
       "    max-height: 300px;\n",
       "    overflow: auto;\n",
       "  }\n",
       "  table, th, td {\n",
       "    border: 1px solid black;\n",
       "    border-collapse: collapse;\n",
       "  }\n",
       "  th, td {\n",
       "    padding: 5px;\n",
       "  }\n",
       "  th {\n",
       "    text-align: left;\n",
       "  }\n",
       "</style><div class='table-result-container'><table class='table-result'><thead style='background-color: white'><tr><th>CallNumber</th><th>UnitID</th><th>IncidentNumber</th><th>CallType</th><th>CallDate</th><th>WatchDate</th><th>CallFinalDisposition</th><th>AvailableDtTm</th><th>Address</th><th>City</th><th>Zipcode</th><th>Battalion</th><th>StationArea</th><th>Box</th><th>OriginalPriority</th><th>Priority</th><th>FinalPriority</th><th>ALSUnit</th><th>CallTypeGroup</th><th>NumAlarms</th><th>UnitType</th><th>UnitSequenceInCallDispatch</th><th>FirePreventionDistrict</th><th>SupervisorDistrict</th><th>Neighborhood</th><th>Location</th><th>RowID</th><th>Delay</th></tr></thead><tbody><tr><td>113090312</td><td>B01</td><td>11102803</td><td>Alarms</td><td>2011-11-05</td><td>2011-11-05</td><td>Other</td><td>11/05/2011 07:45:06 PM</td><td>500 Block of BROADWAY</td><td>SF</td><td>94133</td><td>B01</td><td>02</td><td>1311</td><td>3</td><td>3</td><td>3</td><td>false</td><td>null</td><td>1</td><td>CHIEF</td><td>1</td><td>1</td><td>3</td><td>North Beach</td><td>(37.7979143834762, -122.405841249396)</td><td>113090312-B01</td><td>2.9</td></tr><tr><td>113090312</td><td>E02</td><td>11102803</td><td>Alarms</td><td>2011-11-05</td><td>2011-11-05</td><td>Other</td><td>11/05/2011 07:45:05 PM</td><td>500 Block of BROADWAY</td><td>SF</td><td>94133</td><td>B01</td><td>02</td><td>1311</td><td>3</td><td>3</td><td>3</td><td>true</td><td>null</td><td>1</td><td>ENGINE</td><td>2</td><td>1</td><td>3</td><td>North Beach</td><td>(37.7979143834762, -122.405841249396)</td><td>113090312-E02</td><td>2.5833333</td></tr><tr><td>113090312</td><td>T02</td><td>11102803</td><td>Alarms</td><td>2011-11-05</td><td>2011-11-05</td><td>Other</td><td>11/05/2011 07:45:06 PM</td><td>500 Block of BROADWAY</td><td>SF</td><td>94133</td><td>B01</td><td>02</td><td>1311</td><td>3</td><td>3</td><td>3</td><td>false</td><td>null</td><td>1</td><td>TRUCK</td><td>3</td><td>1</td><td>3</td><td>North Beach</td><td>(37.7979143834762, -122.405841249396)</td><td>113090312-T02</td><td>2.9</td></tr><tr><td>113090313</td><td>AM18</td><td>11102805</td><td>Medical Incident</td><td>2011-11-05</td><td>2011-11-05</td><td>Code 2 Transport</td><td>11/05/2011 08:46:03 PM</td><td>SUTTER ST/LEAVENWORTH ST</td><td>SF</td><td>94109</td><td>B01</td><td>03</td><td>1463</td><td>3</td><td>3</td><td>3</td><td>false</td><td>null</td><td>1</td><td>PRIVATE</td><td>2</td><td>4</td><td>3</td><td>Nob Hill</td><td>(37.7883879297961, -122.415185268348)</td><td>113090313-AM18</td><td>1.6833333</td></tr><tr><td>113090313</td><td>E03</td><td>11102805</td><td>Medical Incident</td><td>2011-11-05</td><td>2011-11-05</td><td>Other</td><td>11/05/2011 07:54:51 PM</td><td>SUTTER ST/LEAVENWORTH ST</td><td>SF</td><td>94109</td><td>B01</td><td>03</td><td>1463</td><td>3</td><td>3</td><td>3</td><td>true</td><td>null</td><td>1</td><td>ENGINE</td><td>1</td><td>4</td><td>3</td><td>Nob Hill</td><td>(37.7883879297961, -122.415185268348)</td><td>113090313-E03</td><td>2.25</td></tr></tbody></table></div>"
      ]
     },
     "metadata": {
      "application/vnd.databricks.v1+output": {
       "addedWidgets": {},
       "aggData": [],
       "aggError": "",
       "aggOverflow": false,
       "aggSchema": [],
       "aggSeriesLimitReached": false,
       "aggType": "",
       "arguments": {},
       "columnCustomDisplayInfos": {},
       "data": [
        [
         113090312,
         "B01",
         11102803,
         "Alarms",
         "2011-11-05",
         "2011-11-05",
         "Other",
         "11/05/2011 07:45:06 PM",
         "500 Block of BROADWAY",
         "SF",
         94133,
         "B01",
         "02",
         "1311",
         "3",
         "3",
         3,
         false,
         null,
         1,
         "CHIEF",
         1,
         "1",
         "3",
         "North Beach",
         "(37.7979143834762, -122.405841249396)",
         "113090312-B01",
         2.9
        ],
        [
         113090312,
         "E02",
         11102803,
         "Alarms",
         "2011-11-05",
         "2011-11-05",
         "Other",
         "11/05/2011 07:45:05 PM",
         "500 Block of BROADWAY",
         "SF",
         94133,
         "B01",
         "02",
         "1311",
         "3",
         "3",
         3,
         true,
         null,
         1,
         "ENGINE",
         2,
         "1",
         "3",
         "North Beach",
         "(37.7979143834762, -122.405841249396)",
         "113090312-E02",
         2.5833333
        ],
        [
         113090312,
         "T02",
         11102803,
         "Alarms",
         "2011-11-05",
         "2011-11-05",
         "Other",
         "11/05/2011 07:45:06 PM",
         "500 Block of BROADWAY",
         "SF",
         94133,
         "B01",
         "02",
         "1311",
         "3",
         "3",
         3,
         false,
         null,
         1,
         "TRUCK",
         3,
         "1",
         "3",
         "North Beach",
         "(37.7979143834762, -122.405841249396)",
         "113090312-T02",
         2.9
        ],
        [
         113090313,
         "AM18",
         11102805,
         "Medical Incident",
         "2011-11-05",
         "2011-11-05",
         "Code 2 Transport",
         "11/05/2011 08:46:03 PM",
         "SUTTER ST/LEAVENWORTH ST",
         "SF",
         94109,
         "B01",
         "03",
         "1463",
         "3",
         "3",
         3,
         false,
         null,
         1,
         "PRIVATE",
         2,
         "4",
         "3",
         "Nob Hill",
         "(37.7883879297961, -122.415185268348)",
         "113090313-AM18",
         1.6833333
        ],
        [
         113090313,
         "E03",
         11102805,
         "Medical Incident",
         "2011-11-05",
         "2011-11-05",
         "Other",
         "11/05/2011 07:54:51 PM",
         "SUTTER ST/LEAVENWORTH ST",
         "SF",
         94109,
         "B01",
         "03",
         "1463",
         "3",
         "3",
         3,
         true,
         null,
         1,
         "ENGINE",
         1,
         "4",
         "3",
         "Nob Hill",
         "(37.7883879297961, -122.415185268348)",
         "113090313-E03",
         2.25
        ]
       ],
       "datasetInfos": [
        {
         "name": "_sqldf",
         "schema": {
          "fields": [
           {
            "metadata": {},
            "name": "CallNumber",
            "nullable": true,
            "type": "integer"
           },
           {
            "metadata": {},
            "name": "UnitID",
            "nullable": true,
            "type": "string"
           },
           {
            "metadata": {},
            "name": "IncidentNumber",
            "nullable": true,
            "type": "integer"
           },
           {
            "metadata": {},
            "name": "CallType",
            "nullable": true,
            "type": "string"
           },
           {
            "metadata": {},
            "name": "CallDate",
            "nullable": true,
            "type": "string"
           },
           {
            "metadata": {},
            "name": "WatchDate",
            "nullable": true,
            "type": "string"
           },
           {
            "metadata": {},
            "name": "CallFinalDisposition",
            "nullable": true,
            "type": "string"
           },
           {
            "metadata": {},
            "name": "AvailableDtTm",
            "nullable": true,
            "type": "string"
           },
           {
            "metadata": {},
            "name": "Address",
            "nullable": true,
            "type": "string"
           },
           {
            "metadata": {},
            "name": "City",
            "nullable": true,
            "type": "string"
           },
           {
            "metadata": {},
            "name": "Zipcode",
            "nullable": true,
            "type": "integer"
           },
           {
            "metadata": {},
            "name": "Battalion",
            "nullable": true,
            "type": "string"
           },
           {
            "metadata": {},
            "name": "StationArea",
            "nullable": true,
            "type": "string"
           },
           {
            "metadata": {},
            "name": "Box",
            "nullable": true,
            "type": "string"
           },
           {
            "metadata": {},
            "name": "OriginalPriority",
            "nullable": true,
            "type": "string"
           },
           {
            "metadata": {},
            "name": "Priority",
            "nullable": true,
            "type": "string"
           },
           {
            "metadata": {},
            "name": "FinalPriority",
            "nullable": true,
            "type": "integer"
           },
           {
            "metadata": {},
            "name": "ALSUnit",
            "nullable": true,
            "type": "boolean"
           },
           {
            "metadata": {},
            "name": "CallTypeGroup",
            "nullable": true,
            "type": "string"
           },
           {
            "metadata": {},
            "name": "NumAlarms",
            "nullable": true,
            "type": "integer"
           },
           {
            "metadata": {},
            "name": "UnitType",
            "nullable": true,
            "type": "string"
           },
           {
            "metadata": {},
            "name": "UnitSequenceInCallDispatch",
            "nullable": true,
            "type": "integer"
           },
           {
            "metadata": {},
            "name": "FirePreventionDistrict",
            "nullable": true,
            "type": "string"
           },
           {
            "metadata": {},
            "name": "SupervisorDistrict",
            "nullable": true,
            "type": "string"
           },
           {
            "metadata": {},
            "name": "Neighborhood",
            "nullable": true,
            "type": "string"
           },
           {
            "metadata": {},
            "name": "Location",
            "nullable": true,
            "type": "string"
           },
           {
            "metadata": {},
            "name": "RowID",
            "nullable": true,
            "type": "string"
           },
           {
            "metadata": {},
            "name": "Delay",
            "nullable": true,
            "type": "float"
           }
          ],
          "type": "struct"
         },
         "tableIdentifier": null,
         "typeStr": "pyspark.sql.connect.dataframe.DataFrame"
        }
       ],
       "dbfsResultPath": null,
       "isJsonSchema": true,
       "metadata": {
        "createTempViewForImplicitDf": true,
        "dataframeName": "_sqldf",
        "executionCount": 19
       },
       "overflow": false,
       "plotOptions": {
        "customPlotOptions": {},
        "displayType": "table",
        "pivotAggregation": null,
        "pivotColumns": null,
        "xColumns": null,
        "yColumns": null
       },
       "removedWidgets": [],
       "schema": [
        {
         "metadata": "{}",
         "name": "CallNumber",
         "type": "\"integer\""
        },
        {
         "metadata": "{}",
         "name": "UnitID",
         "type": "\"string\""
        },
        {
         "metadata": "{}",
         "name": "IncidentNumber",
         "type": "\"integer\""
        },
        {
         "metadata": "{}",
         "name": "CallType",
         "type": "\"string\""
        },
        {
         "metadata": "{}",
         "name": "CallDate",
         "type": "\"string\""
        },
        {
         "metadata": "{}",
         "name": "WatchDate",
         "type": "\"string\""
        },
        {
         "metadata": "{}",
         "name": "CallFinalDisposition",
         "type": "\"string\""
        },
        {
         "metadata": "{}",
         "name": "AvailableDtTm",
         "type": "\"string\""
        },
        {
         "metadata": "{}",
         "name": "Address",
         "type": "\"string\""
        },
        {
         "metadata": "{}",
         "name": "City",
         "type": "\"string\""
        },
        {
         "metadata": "{}",
         "name": "Zipcode",
         "type": "\"integer\""
        },
        {
         "metadata": "{}",
         "name": "Battalion",
         "type": "\"string\""
        },
        {
         "metadata": "{}",
         "name": "StationArea",
         "type": "\"string\""
        },
        {
         "metadata": "{}",
         "name": "Box",
         "type": "\"string\""
        },
        {
         "metadata": "{}",
         "name": "OriginalPriority",
         "type": "\"string\""
        },
        {
         "metadata": "{}",
         "name": "Priority",
         "type": "\"string\""
        },
        {
         "metadata": "{}",
         "name": "FinalPriority",
         "type": "\"integer\""
        },
        {
         "metadata": "{}",
         "name": "ALSUnit",
         "type": "\"boolean\""
        },
        {
         "metadata": "{}",
         "name": "CallTypeGroup",
         "type": "\"string\""
        },
        {
         "metadata": "{}",
         "name": "NumAlarms",
         "type": "\"integer\""
        },
        {
         "metadata": "{}",
         "name": "UnitType",
         "type": "\"string\""
        },
        {
         "metadata": "{}",
         "name": "UnitSequenceInCallDispatch",
         "type": "\"integer\""
        },
        {
         "metadata": "{}",
         "name": "FirePreventionDistrict",
         "type": "\"string\""
        },
        {
         "metadata": "{}",
         "name": "SupervisorDistrict",
         "type": "\"string\""
        },
        {
         "metadata": "{}",
         "name": "Neighborhood",
         "type": "\"string\""
        },
        {
         "metadata": "{}",
         "name": "Location",
         "type": "\"string\""
        },
        {
         "metadata": "{}",
         "name": "RowID",
         "type": "\"string\""
        },
        {
         "metadata": "{}",
         "name": "Delay",
         "type": "\"float\""
        }
       ],
       "type": "table"
      }
     },
     "output_type": "display_data"
    }
   ],
   "source": [
    "select * from demo_db.fire_service_calls_tbl limit 5"
   ]
  },
  {
   "cell_type": "code",
   "execution_count": 0,
   "metadata": {
    "application/vnd.databricks.v1+cell": {
     "cellMetadata": {},
     "inputWidgets": {},
     "nuid": "27149cbe-b4c8-4e7e-9a4c-eb79f57d866e",
     "showTitle": false,
     "tableResultSettingsMap": {},
     "title": ""
    }
   },
   "outputs": [],
   "source": []
  }
 ],
 "metadata": {
  "application/vnd.databricks.v1+notebook": {
   "computePreferences": null,
   "dashboards": [],
   "environmentMetadata": {
    "base_environment": "",
    "environment_version": "2"
   },
   "inputWidgetPreferences": null,
   "language": "sql",
   "notebookMetadata": {
    "pythonIndentUnit": 4
   },
   "notebookName": "03-spark-table-demo",
   "widgets": {}
  },
  "language_info": {
   "name": "sql"
  }
 },
 "nbformat": 4,
 "nbformat_minor": 0
}